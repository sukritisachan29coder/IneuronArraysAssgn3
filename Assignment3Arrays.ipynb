{
 "cells": [
  {
   "cell_type": "markdown",
   "id": "65663d69",
   "metadata": {},
   "source": [
    "Question 4\n",
    "Given a sorted array of distinct integers and a target value, return the index if the\n",
    "target is found. If not, return the index where it would be if it were inserted in\n",
    "order.\n",
    "\n",
    "You must write an algorithm with O(log n) runtime complexity.\n",
    "\n",
    "Example 1:\n",
    "Input: nums = [1,3,5,6], target = 5\n",
    "Output: 2"
   ]
  },
  {
   "cell_type": "code",
   "execution_count": 1,
   "id": "233f8a50",
   "metadata": {},
   "outputs": [
    {
     "name": "stdout",
     "output_type": "stream",
     "text": [
      "Enter length 4\n",
      "1\n",
      "3\n",
      "5\n",
      "6\n",
      "Enter search element 2\n",
      "Index for  2  would be  1\n"
     ]
    }
   ],
   "source": [
    "import logging\n",
    "logging.basicConfig(filename=\"testpandas.log\",level=logging.DEBUG,format='%(asctime)s %(levelname)s %(message)s')\n",
    "res=[]\n",
    "logging.info(\"Entering try block\")\n",
    "try:\n",
    "    def ins_ele(res):\n",
    "        l=int(input(\"Enter length \"))\n",
    "        for i in range(0,l):\n",
    "            t=int(input())\n",
    "            res.append(t)\n",
    "        e=int(input(\"Enter search element \"))\n",
    "        if e in res:\n",
    "            print(res.index(e))\n",
    "        else:\n",
    "            for i in range(1,len(res)-1):\n",
    "                if(e>res[i-1] and e<res[i]):\n",
    "                    print(\"Index for \",e,\" would be \",i)\n",
    "except Exception as e:\n",
    "    print(\"Some error ocurred, please recheck code\",e)\n",
    "ins_ele(res)"
   ]
  },
  {
   "cell_type": "markdown",
   "id": "1933e586",
   "metadata": {},
   "source": [
    "<aside>\n",
    "💡 **Question 5**\n",
    "You are given a large integer represented as an integer array digits, where each\n",
    "digits[i] is the ith digit of the integer. The digits are ordered from most significant\n",
    "to least significant in left-to-right order. The large integer does not contain any\n",
    "leading 0's.\n",
    "\n",
    "Increment the large integer by one and return the resulting array of digits.\n",
    "\n",
    "**Example 1:**\n",
    "Input: digits = [1,2,3]\n",
    "Output: [1,2,4]\n",
    "\n",
    "**Explanation:** The array represents the integer 123.\n",
    "Incrementing by one gives 123 + 1 = 124.\n",
    "Thus, the result should be [1,2,4].\n",
    "\n",
    "</aside>"
   ]
  },
  {
   "cell_type": "code",
   "execution_count": 2,
   "id": "f1c38e0e",
   "metadata": {},
   "outputs": [
    {
     "name": "stdout",
     "output_type": "stream",
     "text": [
      "Enter length 3\n",
      "1\n",
      "2\n",
      "4\n"
     ]
    },
    {
     "data": {
      "text/plain": [
       "[1, 2, 5]"
      ]
     },
     "execution_count": 2,
     "metadata": {},
     "output_type": "execute_result"
    }
   ],
   "source": [
    "import logging\n",
    "logging.basicConfig(filename=\"testpandas.log\",level=logging.DEBUG,format='%(asctime)s %(levelname)s %(message)s')\n",
    "res=[]\n",
    "logging.info(\"Entering try block\")\n",
    "try:\n",
    "    def app_ele(res):\n",
    "        l=int(input(\"Enter length \"))\n",
    "        for i in range(0,l):\n",
    "            t=int(input())\n",
    "            res.append(t)\n",
    "        res[l-1]=res[l-1]+1\n",
    "        return res\n",
    "except Exception as e:\n",
    "    logging.info('Some error occurred, please recheck code ',e)\n",
    "app_ele(res)"
   ]
  },
  {
   "cell_type": "markdown",
   "id": "9a1aa6d4",
   "metadata": {},
   "source": [
    "Question 6\n",
    "Given a non-empty array of integers nums, every element appears twice except\n",
    "for one. Find that single one.\n",
    "\n",
    "You must implement a solution with a linear runtime complexity and use only\n",
    "constant extra space.\n",
    "\n",
    "Example 1:\n",
    "Input: nums = [2,2,1]\n",
    "Output: 1"
   ]
  },
  {
   "cell_type": "code",
   "execution_count": 23,
   "id": "95a17c0d",
   "metadata": {},
   "outputs": [
    {
     "name": "stdout",
     "output_type": "stream",
     "text": [
      "Enter length 5\n",
      "4\n",
      "6\n",
      "4\n",
      "5\n",
      "5\n"
     ]
    },
    {
     "data": {
      "text/plain": [
       "6"
      ]
     },
     "execution_count": 23,
     "metadata": {},
     "output_type": "execute_result"
    }
   ],
   "source": [
    "import logging\n",
    "logging.basicConfig(filename=\"testpandas.log\",level=logging.DEBUG,format='%(asctime)s %(levelname)s %(message)s')\n",
    "logging.info(\"Entering try block\")\n",
    "res1=[]\n",
    "try:\n",
    "    def find_sing(res):\n",
    "        l=int(input(\"Enter length \"))\n",
    "        for i in range(0,l):\n",
    "            t=int(input())\n",
    "            res1.append(t)\n",
    "        for i in res1:\n",
    "            if res1.count(i)==1:\n",
    "                ans=i                     \n",
    "        return ans\n",
    "except Exception as e:\n",
    "    logging.info('Some error occurred, please recheck code ',e)\n",
    "find_sing(res1)"
   ]
  },
  {
   "cell_type": "markdown",
   "id": "a5f41bfe",
   "metadata": {},
   "source": [
    "Question 7\n",
    "You are given an inclusive range [lower, upper] and a sorted unique integer array\n",
    "nums, where all elements are within the inclusive range.\n",
    "\n",
    "A number x is considered missing if x is in the range [lower, upper] and x is not in\n",
    "nums.\n",
    "\n",
    "Return the shortest sorted list of ranges that exactly covers all the missing\n",
    "numbers. That is, no element of nums is included in any of the ranges, and each\n",
    "missing number is covered by one of the ranges.\n",
    "\n",
    "Example 1:\n",
    "Input: nums = [0,1,3,50,75], lower = 0, upper = 99\n",
    "Output: [[2,2],[4,49],[51,74],[76,99]]\n",
    "\n",
    "Explanation: The ranges are:\n",
    "[2,2]\n",
    "[4,49]\n",
    "[51,74]\n",
    "[76,99]"
   ]
  },
  {
   "cell_type": "code",
   "execution_count": 38,
   "id": "55f5ee53",
   "metadata": {},
   "outputs": [
    {
     "name": "stdout",
     "output_type": "stream",
     "text": [
      "76\n",
      "99\n",
      "Enter length 3\n",
      "78\n",
      "80\n",
      "96\n"
     ]
    },
    {
     "data": {
      "text/plain": [
       "[[79, 79], [81, 95], [76, 77], [97, 99]]"
      ]
     },
     "execution_count": 38,
     "metadata": {},
     "output_type": "execute_result"
    }
   ],
   "source": [
    "import logging\n",
    "logging.basicConfig(filename=\"testpandas.log\",level=logging.DEBUG,format='%(asctime)s %(levelname)s %(message)s')\n",
    "logging.info(\"Entering try block\")\n",
    "res2=[]\n",
    "fin=[]\n",
    "low=int(input())\n",
    "up=int(input())\n",
    "try:\n",
    "    def find_range(res,low,up):\n",
    "        l=int(input(\"Enter length \"))\n",
    "        for i in range(0,l):\n",
    "            t=int(input())\n",
    "            res2.append(t)\n",
    "        for i in range(0,l-1):\n",
    "            temp=[]\n",
    "            if res2[i+1]-res2[i]>1:\n",
    "                temp.append(res2[i]+1)\n",
    "                temp.append(res2[i+1]-1)\n",
    "            fin.append(temp)\n",
    "        temp1=[]\n",
    "        if(res2[0]>low):\n",
    "            temp1.append(low)\n",
    "            temp1.append(res[0]-1)\n",
    "        fin.append(temp1)\n",
    "        temp2=[]\n",
    "        if(res2[l-1]<up):\n",
    "            temp2.append(res2[l-1]+1)\n",
    "            temp2.append(up)\n",
    "        fin.append(temp2)\n",
    "        return fin\n",
    "except Exception as e:\n",
    "    logging.info('Some error occurred, please recheck code ',e)\n",
    "find_range(res2,low,up)"
   ]
  },
  {
   "cell_type": "markdown",
   "id": "56dc9a01",
   "metadata": {},
   "source": [
    "<aside>\n",
    "💡 **Question 8**\n",
    "Given an array of meeting time intervals where intervals[i] = [starti, endi],\n",
    "determine if a person could attend all meetings.\n",
    "\n",
    "**Example 1:**\n",
    "Input: intervals = [[0,30],[5,10],[15,20]]\n",
    "Output: false\n",
    "\n",
    "</aside>"
   ]
  },
  {
   "cell_type": "code",
   "execution_count": 64,
   "id": "0d5c3355",
   "metadata": {},
   "outputs": [
    {
     "name": "stdout",
     "output_type": "stream",
     "text": [
      "Enter length 3\n",
      "Ent start time 0\n",
      "Enter end time 30\n",
      "Ent start time 5\n",
      "Enter end time 10\n",
      "Ent start time 15\n",
      "Enter end time 20\n",
      "[0, 30, 5, 10, 15, 20]\n"
     ]
    },
    {
     "data": {
      "text/plain": [
       "True"
      ]
     },
     "execution_count": 64,
     "metadata": {},
     "output_type": "execute_result"
    }
   ],
   "source": [
    "import logging\n",
    "logging.basicConfig(filename=\"testpandas.log\",level=logging.DEBUG,format='%(asctime)s %(levelname)s %(message)s')\n",
    "logging.info(\"Entering try block\")\n",
    "temp1=[]\n",
    "all_slot=[]\n",
    "try:\n",
    "    def meet(all_slot):\n",
    "        l=int(input(\"Enter length \"))\n",
    "        for i in range(0,l):\n",
    "            p_slot=[]\n",
    "            p1=int(input(\"Ent start time \"))\n",
    "            p2=int(input(\"Enter end time \"))\n",
    "            all_slot.append(p1)\n",
    "            all_slot.append(p2)\n",
    "        #all_slot = sorted(all_slot)\n",
    "        print(all_slot)\n",
    "        for i in range(1, len(all_slot)):\n",
    "            if all_slot[i] < all_slot[i - 1]:\n",
    "                return False\n",
    "            else:\n",
    "                return True\n",
    "except Exception as e:\n",
    "    logging.info(\"Some error ocurred\",e)\n",
    "meet(all_slot)"
   ]
  },
  {
   "cell_type": "code",
   "execution_count": null,
   "id": "91fc07a9",
   "metadata": {},
   "outputs": [],
   "source": []
  }
 ],
 "metadata": {
  "kernelspec": {
   "display_name": "Python 3 (ipykernel)",
   "language": "python",
   "name": "python3"
  },
  "language_info": {
   "codemirror_mode": {
    "name": "ipython",
    "version": 3
   },
   "file_extension": ".py",
   "mimetype": "text/x-python",
   "name": "python",
   "nbconvert_exporter": "python",
   "pygments_lexer": "ipython3",
   "version": "3.9.13"
  }
 },
 "nbformat": 4,
 "nbformat_minor": 5
}
